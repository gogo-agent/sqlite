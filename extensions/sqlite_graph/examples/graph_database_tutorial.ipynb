{
 "cells": [
  {
   "cell_type": "markdown",
   "metadata": {},
   "source": [
    "# SQLite Graph Database Extension Tutorial\n",
    "\n",
    "This notebook demonstrates how to use the SQLite Graph Database Extension from Python. The extension provides graph database functionality with openCypher-like query support built on top of SQLite.\n",
    "\n",
    "## Prerequisites\n",
    "\n",
    "- Python 3.6+\n",
    "- sqlite3 module (built-in)\n",
    "- Jupyter notebook\n",
    "- Compiled graph extension (.so file)\n",
    "\n",
    "## Features\n",
    "\n",
    "- **Graph storage**: Nodes and edges with JSON properties\n",
    "- **Graph algorithms**: Shortest path, centrality, connectivity\n",
    "- **Cypher queries**: openCypher-compatible query parsing\n",
    "- **Write operations**: CREATE, MERGE, SET, DELETE\n",
    "- **Performance**: Built on SQLite for reliability and speed"
   ]
  },
  {
   "cell_type": "markdown",
   "metadata": {},
   "source": [
    "## 1. Setup and Extension Loading"
   ]
  },
  {
   "cell_type": "code",
   "execution_count": null,
   "metadata": {},
   "outputs": [],
   "source": [
    "import sqlite3\n",
    "import json\n",
    "import os\n",
    "from pathlib import Path\n",
    "\n",
    "# Connect to SQLite database\n",
    "conn = sqlite3.connect(\":memory:\")  # In-memory database\n",
    "conn.row_factory = sqlite3.Row  # Enable column access by name\n",
    "cursor = conn.cursor()\n",
    "\n",
    "# Load the graph extension\n",
    "extension_path = \"../build/libgraph.so\"  # Adjust path as needed\n",
    "\n",
    "if os.path.exists(extension_path):\n",
    "    conn.enable_load_extension(True)\n",
    "    conn.load_extension(extension_path)\n",
    "    print(f\"✅ Graph extension loaded: {extension_path}\")\n",
    "else:\n",
    "    print(f\"❌ Extension not found: {extension_path}\")\n",
    "    print(\"Please make sure the extension is compiled and the path is correct.\")"
   ]
  },
  {
   "cell_type": "code",
   "execution_count": null,
   "metadata": {},
   "outputs": [],
   "source": [
    "# Test basic functionality\n",
    "cursor.execute(\"SELECT graph_count_nodes() as node_count\")\n",
    "result = cursor.fetchone()\n",
    "print(f\"Initial node count: {result['node_count']}\")\n",
    "print(\"✅ Extension is working correctly!\")"
   ]
  },
  {
   "cell_type": "markdown",
   "metadata": {},
   "source": [
    "## 2. Creating Nodes and Edges"
   ]
  },
  {
   "cell_type": "code",
   "execution_count": null,
   "metadata": {},
   "outputs": [],
   "source": [
    "# Create person nodes with properties\n",
    "people = [\n",
    "    (1, {\"name\": \"Alice\", \"age\": 30, \"occupation\": \"Developer\", \"city\": \"New York\"}),\n",
    "    (2, {\"name\": \"Bob\", \"age\": 25, \"occupation\": \"Designer\", \"city\": \"San Francisco\"}),\n",
    "    (3, {\"name\": \"Carol\", \"age\": 28, \"occupation\": \"Manager\", \"city\": \"Chicago\"}),\n",
    "    (4, {\"name\": \"Dave\", \"age\": 32, \"occupation\": \"Analyst\", \"city\": \"Austin\"})\n",
    "]\n",
    "\n",
    "print(\"Creating person nodes...\")\n",
    "for person_id, properties in people:\n",
    "    cursor.execute(\"SELECT graph_node_add(?, ?) as result\", \n",
    "                   (person_id, json.dumps(properties)))\n",
    "    result = cursor.fetchone()\n",
    "    print(f\"✅ {properties['name']} (ID: {person_id}): {result['result']}\")\n",
    "\n",
    "# Check node count\n",
    "cursor.execute(\"SELECT graph_count_nodes() as count\")\n",
    "result = cursor.fetchone()\n",
    "print(f\"\\nTotal nodes created: {result['count']}\")"
   ]
  },
  {
   "cell_type": "code",
   "execution_count": null,
   "metadata": {},
   "outputs": [],
   "source": [
    "# Create relationships between people\n",
    "relationships = [\n",
    "    (1, 2, \"FRIENDS\", {\"since\": \"2020-01-15\", \"closeness\": 0.8}),\n",
    "    (1, 3, \"WORKS_WITH\", {\"project\": \"GraphDB\", \"since\": \"2019-06-01\"}),\n",
    "    (2, 4, \"FRIENDS\", {\"since\": \"2018-11-20\", \"closeness\": 0.9}),\n",
    "    (3, 4, \"COLLABORATES\", {\"project\": \"Analytics\", \"frequency\": \"weekly\"})\n",
    "]\n",
    "\n",
    "print(\"Creating relationships...\")\n",
    "for from_id, to_id, rel_type, properties in relationships:\n",
    "    cursor.execute(\"SELECT graph_edge_add(?, ?, ?, ?) as result\",\n",
    "                   (from_id, to_id, rel_type, json.dumps(properties)))\n",
    "    result = cursor.fetchone()\n",
    "    \n",
    "    # Get names for display\n",
    "    from_name = next(p[1]['name'] for p in people if p[0] == from_id)\n",
    "    to_name = next(p[1]['name'] for p in people if p[0] == to_id)\n",
    "    \n",
    "    print(f\"✅ {from_name} --{rel_type}--> {to_name}: {result['result']}\")\n",
    "\n",
    "# Check edge count\n",
    "cursor.execute(\"SELECT graph_count_edges() as count\")\n",
    "result = cursor.fetchone()\n",
    "print(f\"\\nTotal edges created: {result['count']}\")"
   ]
  },
  {
   "cell_type": "markdown",
   "metadata": {},
   "source": [
    "## 3. Graph Statistics and Analysis"
   ]
  },
  {
   "cell_type": "code",
   "execution_count": null,
   "metadata": {},
   "outputs": [],
   "source": [
    "# Get overall graph statistics\n",
    "cursor.execute(\"SELECT graph_count_nodes() as nodes, graph_count_edges() as edges\")\n",
    "stats = cursor.fetchone()\n",
    "\n",
    "print(\"📊 Graph Statistics:\")\n",
    "print(f\"   Nodes: {stats['nodes']}\")\n",
    "print(f\"   Edges: {stats['edges']}\")\n",
    "\n",
    "# Calculate graph properties\n",
    "try:\n",
    "    cursor.execute(\"SELECT graph_density() as density\")\n",
    "    result = cursor.fetchone()\n",
    "    print(f\"   Density: {result['density']:.3f}\")\n",
    "except sqlite3.Error as e:\n",
    "    print(f\"   Density: Error - {e}\")\n",
    "\n",
    "try:\n",
    "    cursor.execute(\"SELECT graph_is_connected() as connected\")\n",
    "    result = cursor.fetchone()\n",
    "    print(f\"   Connected: {bool(result['connected'])}\")\n",
    "except sqlite3.Error as e:\n",
    "    print(f\"   Connected: Error - {e}\")\n",
    "\n",
    "try:\n",
    "    cursor.execute(\"SELECT graph_has_cycle() as has_cycle\")\n",
    "    result = cursor.fetchone()\n",
    "    print(f\"   Has cycles: {bool(result['has_cycle'])}\")\n",
    "except sqlite3.Error as e:\n",
    "    print(f\"   Has cycles: Error - {e}\")"
   ]
  },
  {
   "cell_type": "markdown",
   "metadata": {},
   "source": [
    "## 4. Node Centrality Analysis"
   ]
  },
  {
   "cell_type": "code",
   "execution_count": null,
   "metadata": {},
   "outputs": [],
   "source": [
    "# Calculate degree centrality for each person\n",
    "print(\"🌟 Node Centrality Analysis:\")\n",
    "print(\"   (Higher values indicate more connected nodes)\")\n",
    "print()\n",
    "\n",
    "for person_id, properties in people:\n",
    "    try:\n",
    "        cursor.execute(\"SELECT graph_degree_centrality(?) as centrality\", (person_id,))\n",
    "        result = cursor.fetchone()\n",
    "        centrality = result['centrality']\n",
    "        name = properties['name']\n",
    "        print(f\"   {name:8} (ID {person_id}): {centrality:.3f}\")\n",
    "    except sqlite3.Error as e:\n",
    "        print(f\"   {properties['name']}: Error - {e}\")"
   ]
  },
  {
   "cell_type": "markdown",
   "metadata": {},
   "source": [
    "## 5. Path Finding"
   ]
  },
  {
   "cell_type": "code",
   "execution_count": null,
   "metadata": {},
   "outputs": [],
   "source": [
    "# Find shortest paths between people\n",
    "print(\"🛤️  Shortest Path Analysis:\")\n",
    "print()\n",
    "\n",
    "path_queries = [\n",
    "    (1, 4, \"Alice\", \"Dave\"),\n",
    "    (2, 3, \"Bob\", \"Carol\"),\n",
    "    (1, 3, \"Alice\", \"Carol\")\n",
    "]\n",
    "\n",
    "for from_id, to_id, from_name, to_name in path_queries:\n",
    "    try:\n",
    "        cursor.execute(\"SELECT graph_shortest_path(?, ?) as path\", (from_id, to_id))\n",
    "        result = cursor.fetchone()\n",
    "        path = result['path']\n",
    "        \n",
    "        if path:\n",
    "            print(f\"   {from_name} → {to_name}: {path}\")\n",
    "        else:\n",
    "            print(f\"   {from_name} → {to_name}: No path found\")\n",
    "    except sqlite3.Error as e:\n",
    "        print(f\"   {from_name} → {to_name}: Error - {e}\")"
   ]
  },
  {
   "cell_type": "markdown",
   "metadata": {},
   "source": [
    "## 6. Cypher Query Testing"
   ]
  },
  {
   "cell_type": "code",
   "execution_count": null,
   "metadata": {},
   "outputs": [],
   "source": [
    "# Test Cypher query parsing and validation\n",
    "print(\"🔍 Testing Cypher Query Support:\")\n",
    "print()\n",
    "\n",
    "cypher_queries = [\n",
    "    \"RETURN 42\",\n",
    "    \"RETURN 'Hello, Graph!'\",\n",
    "    \"MATCH (n) RETURN n\",\n",
    "    \"MATCH (n:Person) RETURN n.name\",\n",
    "    \"CREATE (n:Person {name: 'Eve'})\",\n",
    "    \"MATCH (a)-[r:FRIENDS]->(b) RETURN a.name, b.name\",\n",
    "    \"RETURN 2 + 3 * 4\",\n",
    "    \"RETURN true AND false\"\n",
    "]\n",
    "\n",
    "for query in cypher_queries:\n",
    "    try:\n",
    "        cursor.execute(\"SELECT cypher_parse(?) as result\", (query,))\n",
    "        result = cursor.fetchone()\n",
    "        print(f\"   ✅ '{query}'\")\n",
    "    except sqlite3.Error as e:\n",
    "        print(f\"   ❌ '{query}' - {e}\")"
   ]
  },
  {
   "cell_type": "markdown",
   "metadata": {},
   "source": [
    "## 7. Write Operations (Advanced)"
   ]
  },
  {
   "cell_type": "code",
   "execution_count": null,
   "metadata": {},
   "outputs": [],
   "source": [
    "# Test Cypher write operations\n",
    "print(\"✍️  Testing Write Operations:\")\n",
    "print()\n",
    "\n",
    "try:\n",
    "    # Begin a write transaction\n",
    "    cursor.execute(\"SELECT cypher_begin_write() as result\")\n",
    "    result = cursor.fetchone()\n",
    "    print(f\"✅ Transaction started: {result['result']}\")\n",
    "    \n",
    "    # Create a new node\n",
    "    cursor.execute(\"SELECT cypher_create_node(?, ?, ?) as node_id\",\n",
    "                   (None, \"Person\", '{\"name\": \"Eve\", \"age\": 27, \"city\": \"Portland\"}'))\n",
    "    result = cursor.fetchone()\n",
    "    eve_id = result['node_id']\n",
    "    print(f\"✅ Created Eve with ID: {eve_id}\")\n",
    "    \n",
    "    # Set a property\n",
    "    cursor.execute(\"SELECT cypher_set_property(?, ?, ?, ?) as result\",\n",
    "                   (\"node\", eve_id, \"occupation\", \"Researcher\"))\n",
    "    result = cursor.fetchone()\n",
    "    print(f\"✅ Set occupation for Eve: {result['result']}\")\n",
    "    \n",
    "    # Commit the transaction\n",
    "    cursor.execute(\"SELECT cypher_commit_write() as result\")\n",
    "    result = cursor.fetchone()\n",
    "    print(f\"✅ Transaction committed: {result['result']}\")\n",
    "    \n",
    "except sqlite3.Error as e:\n",
    "    print(f\"❌ Write operation error: {e}\")\n",
    "\n",
    "# Check final node count\n",
    "cursor.execute(\"SELECT graph_count_nodes() as count\")\n",
    "result = cursor.fetchone()\n",
    "print(f\"\\nFinal node count: {result['count']}\")"
   ]
  },
  {
   "cell_type": "markdown",
   "metadata": {},
   "source": [
    "## 8. Building a Larger Graph"
   ]
  },
  {
   "cell_type": "code",
   "execution_count": null,
   "metadata": {},
   "outputs": [],
   "source": [
    "# Create a larger social network for demonstration\n",
    "import random\n",
    "\n",
    "print(\"🏗️  Building a larger social network...\")\n",
    "print()\n",
    "\n",
    "# Add more people\n",
    "additional_people = [\n",
    "    (10, {\"name\": \"Frank\", \"age\": 35, \"occupation\": \"Teacher\", \"city\": \"Boston\"}),\n",
    "    (11, {\"name\": \"Grace\", \"age\": 29, \"occupation\": \"Artist\", \"city\": \"Seattle\"}),\n",
    "    (12, {\"name\": \"Henry\", \"age\": 31, \"occupation\": \"Engineer\", \"city\": \"Denver\"}),\n",
    "    (13, {\"name\": \"Iris\", \"age\": 26, \"occupation\": \"Writer\", \"city\": \"Portland\"})\n",
    "]\n",
    "\n",
    "for person_id, properties in additional_people:\n",
    "    cursor.execute(\"SELECT graph_node_add(?, ?) as result\",\n",
    "                   (person_id, json.dumps(properties)))\n",
    "    result = cursor.fetchone()\n",
    "    print(f\"   ✅ Added {properties['name']} (ID: {person_id})\")\n",
    "\n",
    "# Create random connections\n",
    "relationship_types = [\"FRIENDS\", \"COLLEAGUES\", \"KNOWS\"]\n",
    "new_connections = [\n",
    "    (1, 10, \"FRIENDS\", {\"since\": \"2021\"}),\n",
    "    (2, 11, \"COLLEAGUES\", {\"department\": \"Creative\"}),\n",
    "    (3, 12, \"KNOWS\", {\"met_at\": \"Conference\"}),\n",
    "    (4, 13, \"FRIENDS\", {\"since\": \"2020\"}),\n",
    "    (10, 11, \"FRIENDS\", {\"since\": \"2019\"}),\n",
    "    (12, 13, \"COLLEAGUES\", {\"project\": \"Innovation\"})\n",
    "]\n",
    "\n",
    "print(\"\\n   Creating new connections...\")\n",
    "for from_id, to_id, rel_type, properties in new_connections:\n",
    "    cursor.execute(\"SELECT graph_edge_add(?, ?, ?, ?) as result\",\n",
    "                   (from_id, to_id, rel_type, json.dumps(properties)))\n",
    "    print(f\"   ✅ Connected {from_id} --{rel_type}--> {to_id}\")\n",
    "\n",
    "# Final statistics\n",
    "cursor.execute(\"SELECT graph_count_nodes() as nodes, graph_count_edges() as edges\")\n",
    "final_stats = cursor.fetchone()\n",
    "print(f\"\\n📊 Final Network Statistics:\")\n",
    "print(f\"   Nodes: {final_stats['nodes']}\")\n",
    "print(f\"   Edges: {final_stats['edges']}\")\n",
    "\n",
    "try:\n",
    "    cursor.execute(\"SELECT graph_density() as density\")\n",
    "    result = cursor.fetchone()\n",
    "    print(f\"   Density: {result['density']:.3f}\")\n",
    "except sqlite3.Error as e:\n",
    "    print(f\"   Density: {e}\")"
   ]
  },
  {
   "cell_type": "markdown",
   "metadata": {},
   "source": [
    "## 9. Cleanup and Summary"
   ]
  },
  {
   "cell_type": "code",
   "execution_count": null,
   "metadata": {},
   "outputs": [],
   "source": [
    "# Summary of what we accomplished\n",
    "print(\"🎉 Tutorial Summary:\")\n",
    "print(\"=\" * 50)\n",
    "print(\"✅ Loaded SQLite Graph Extension\")\n",
    "print(\"✅ Created nodes with JSON properties\")\n",
    "print(\"✅ Created edges with relationships and properties\")\n",
    "print(\"✅ Calculated graph statistics (density, connectivity)\")\n",
    "print(\"✅ Analyzed node centrality\")\n",
    "print(\"✅ Found shortest paths between nodes\")\n",
    "print(\"✅ Tested Cypher query parsing\")\n",
    "print(\"✅ Performed write operations\")\n",
    "print(\"✅ Built a larger social network graph\")\n",
    "\n",
    "print(\"\\n💡 Next Steps:\")\n",
    "print(\"   - Try building your own graph data\")\n",
    "print(\"   - Experiment with different algorithms\")\n",
    "print(\"   - Explore more complex Cypher queries\")\n",
    "print(\"   - Test performance with larger datasets\")\n",
    "print(\"   - Integrate with your applications\")\n",
    "\n",
    "# Close connection\n",
    "conn.close()\n",
    "print(\"\\n🔚 Database connection closed.\")"
   ]
  }
 ],
 "metadata": {
  "kernelspec": {
   "display_name": "Python 3",
   "language": "python",
   "name": "python3"
  },
  "language_info": {
   "codemirror_mode": {
    "name": "ipython",
    "version": 3
   },
   "file_extension": ".py",
   "mimetype": "text/x-python",
   "name": "python",
   "nbconvert_exporter": "python",
   "pygments_lexer": "ipython3",
   "version": "3.8.10"
  }
 },
 "nbformat": 4,
 "nbformat_minor": 4
}
